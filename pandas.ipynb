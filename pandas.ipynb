{
 "cells": [
  {
   "cell_type": "code",
   "execution_count": 2,
   "metadata": {},
   "outputs": [
    {
     "name": "stdout",
     "output_type": "stream",
     "text": [
      "Collecting pandas-datareader\n",
      "  Downloading https://files.pythonhosted.org/packages/14/52/accb990baebe0063977f26e02df36aa7eb4015ed4e86f828cd76273cd6f1/pandas_datareader-0.8.1-py2.py3-none-any.whl (107kB)\n",
      "Collecting lxml\n",
      "  Downloading https://files.pythonhosted.org/packages/d9/36/e79b8e112fb63b04b72724954ae5519e740982bec84f66e5eb4a353906ef/lxml-4.5.0-cp37-cp37m-win_amd64.whl (3.7MB)\n",
      "Requirement already satisfied: pandas>=0.21 in c:\\users\\91833\\appdata\\local\\programs\\python\\python37\\lib\\site-packages (from pandas-datareader) (0.25.3)\n",
      "Collecting requests>=2.3.0\n",
      "  Downloading https://files.pythonhosted.org/packages/1a/70/1935c770cb3be6e3a8b78ced23d7e0f3b187f5cbfab4749523ed65d7c9b1/requests-2.23.0-py2.py3-none-any.whl (58kB)\n",
      "Requirement already satisfied: python-dateutil>=2.6.1 in c:\\users\\91833\\appdata\\local\\programs\\python\\python37\\lib\\site-packages (from pandas>=0.21->pandas-datareader) (2.8.1)\n",
      "Requirement already satisfied: numpy>=1.13.3 in c:\\users\\91833\\appdata\\local\\programs\\python\\python37\\lib\\site-packages (from pandas>=0.21->pandas-datareader) (1.18.1)\n",
      "Requirement already satisfied: pytz>=2017.2 in c:\\users\\91833\\appdata\\local\\programs\\python\\python37\\lib\\site-packages (from pandas>=0.21->pandas-datareader) (2019.3)\n",
      "Collecting certifi>=2017.4.17\n",
      "  Downloading https://files.pythonhosted.org/packages/b9/63/df50cac98ea0d5b006c55a399c3bf1db9da7b5a24de7890bc9cfd5dd9e99/certifi-2019.11.28-py2.py3-none-any.whl (156kB)\n",
      "Collecting urllib3!=1.25.0,!=1.25.1,<1.26,>=1.21.1\n",
      "  Downloading https://files.pythonhosted.org/packages/e8/74/6e4f91745020f967d09332bb2b8b9b10090957334692eb88ea4afe91b77f/urllib3-1.25.8-py2.py3-none-any.whl (125kB)\n",
      "Collecting chardet<4,>=3.0.2\n",
      "  Downloading https://files.pythonhosted.org/packages/bc/a9/01ffebfb562e4274b6487b4bb1ddec7ca55ec7510b22e4c51f14098443b8/chardet-3.0.4-py2.py3-none-any.whl (133kB)\n",
      "Collecting idna<3,>=2.5\n",
      "  Downloading https://files.pythonhosted.org/packages/89/e3/afebe61c546d18fb1709a61bee788254b40e736cff7271c7de5de2dc4128/idna-2.9-py2.py3-none-any.whl (58kB)\n",
      "Requirement already satisfied: six>=1.5 in c:\\users\\91833\\appdata\\local\\programs\\python\\python37\\lib\\site-packages (from python-dateutil>=2.6.1->pandas>=0.21->pandas-datareader) (1.14.0)\n",
      "Installing collected packages: lxml, certifi, urllib3, chardet, idna, requests, pandas-datareader\n",
      "Successfully installed certifi-2019.11.28 chardet-3.0.4 idna-2.9 lxml-4.5.0 pandas-datareader-0.8.1 requests-2.23.0 urllib3-1.25.8\n"
     ]
    },
    {
     "name": "stderr",
     "output_type": "stream",
     "text": [
      "WARNING: You are using pip version 19.3.1; however, version 20.0.2 is available.\n",
      "You should consider upgrading via the 'python -m pip install --upgrade pip' command.\n"
     ]
    }
   ],
   "source": [
    "! pip install pandas-datareader"
   ]
  },
  {
   "cell_type": "code",
   "execution_count": null,
   "metadata": {},
   "outputs": [],
   "source": []
  }
 ],
 "metadata": {
  "kernelspec": {
   "display_name": "Python 3",
   "language": "python",
   "name": "python3"
  },
  "language_info": {
   "codemirror_mode": {
    "name": "ipython",
    "version": 3
   },
   "file_extension": ".py",
   "mimetype": "text/x-python",
   "name": "python",
   "nbconvert_exporter": "python",
   "pygments_lexer": "ipython3",
   "version": "3.7.5"
  }
 },
 "nbformat": 4,
 "nbformat_minor": 4
}
